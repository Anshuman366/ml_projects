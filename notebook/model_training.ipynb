{
 "cells": [
  {
   "cell_type": "code",
   "execution_count": null,
   "metadata": {},
   "outputs": [],
   "source": []
  },
  {
   "cell_type": "code",
   "execution_count": 5,
   "metadata": {},
   "outputs": [],
   "source": [
    "os.getcwd()\n",
    "os.chdir(\"c:\\\\Users\\\\prana\\\\machine_learning_project_1\\\\ml_projects\")"
   ]
  },
  {
   "cell_type": "code",
   "execution_count": 6,
   "metadata": {},
   "outputs": [],
   "source": [
    "from housing.config.configuration import configuration"
   ]
  },
  {
   "cell_type": "code",
   "execution_count": 7,
   "metadata": {},
   "outputs": [],
   "source": [
    "obj=configuration().get_model_trainer_config()"
   ]
  },
  {
   "cell_type": "code",
   "execution_count": 8,
   "metadata": {},
   "outputs": [
    {
     "data": {
      "text/plain": [
       "ModelTrainingconfig(trained_model_file_path='c:\\\\Users\\\\prana\\\\machine_learning_project_1\\\\ml_projects\\\\housing\\\\artifact\\\\model_trainer\\\\2022-07-12_13-57-34\\\\trained_model\\\\model.pkl', base_accuracy=0.6, model_config_file_path='config\\\\model.yaml')"
      ]
     },
     "execution_count": 8,
     "metadata": {},
     "output_type": "execute_result"
    }
   ],
   "source": [
    "obj"
   ]
  },
  {
   "cell_type": "code",
   "execution_count": 9,
   "metadata": {},
   "outputs": [],
   "source": [
    "nested_dict = { 'dictA': {'key_1': 'value_1'},\n",
    "                'dictB': {'key_2': 'value_2'}}"
   ]
  },
  {
   "cell_type": "code",
   "execution_count": 10,
   "metadata": {},
   "outputs": [],
   "source": [
    "nested_dict[\"dictA\"][\"key_1\"]\n",
    "import sklearn.linear_model"
   ]
  },
  {
   "cell_type": "markdown",
   "metadata": {},
   "source": [
    "IMPLIMENTING MODEL FACTORY LINE BY LINE"
   ]
  },
  {
   "cell_type": "code",
   "execution_count": 11,
   "metadata": {},
   "outputs": [],
   "source": [
    "class_ref = getattr(sklearn.linear_model, \"LinearRegression\")\n",
    "from housing.entity.model_factory import ModelFactory"
   ]
  },
  {
   "cell_type": "code",
   "execution_count": 19,
   "metadata": {},
   "outputs": [],
   "source": [
    "config_path=r\"C:\\Users\\prana\\machine_learning_project_1\\ml_projects\\config\\model.yaml\"\n",
    "model_factory=ModelFactory(model_config_path=config_path)\n",
    "config=model_factory.read_params(config_path=config_path)\n"
   ]
  },
  {
   "cell_type": "code",
   "execution_count": 20,
   "metadata": {},
   "outputs": [
    {
     "data": {
      "text/plain": [
       "{'grid_search': {'class': 'GridSearchCV',\n",
       "  'module': 'sklearn.model_selection',\n",
       "  'params': {'cv': 5, 'verbose': 2}},\n",
       " 'model_selection': {'module_0': {'class': 'LinearRegression',\n",
       "   'module': 'sklearn.linear_model',\n",
       "   'params': {'fit_intercept': True},\n",
       "   'search_param_grid': {'fit_intercept': [True, False]}},\n",
       "  'module_1': {'class': 'RandomForestRegressor',\n",
       "   'module': 'sklearn.ensemble',\n",
       "   'params': {'min_samples_leaf': 3},\n",
       "   'search_param_grid': {'min_samples_leaf': [6]}}}}"
      ]
     },
     "execution_count": 20,
     "metadata": {},
     "output_type": "execute_result"
    }
   ],
   "source": [
    "config"
   ]
  },
  {
   "cell_type": "code",
   "execution_count": 17,
   "metadata": {},
   "outputs": [],
   "source": [
    "GRID_SEARCH_KEY = 'grid_search'\n",
    "MODULE_KEY = 'module'\n",
    "CLASS_KEY = 'class'\n",
    "PARAM_KEY = 'params'\n",
    "MODEL_SELECTION_KEY = 'model_selection'\n",
    "SEARCH_PARAM_GRID_KEY = \"search_param_grid\""
   ]
  },
  {
   "cell_type": "code",
   "execution_count": 23,
   "metadata": {},
   "outputs": [
    {
     "data": {
      "text/plain": [
       "'GridSearchCV'"
      ]
     },
     "execution_count": 23,
     "metadata": {},
     "output_type": "execute_result"
    }
   ],
   "source": [
    "grid_search_cv_module: str = config[GRID_SEARCH_KEY][MODULE_KEY]\n",
    "grid_search_cv_module\n",
    "grid_search_class_name: str = config[GRID_SEARCH_KEY][CLASS_KEY]\n",
    "grid_search_class_name"
   ]
  },
  {
   "cell_type": "code",
   "execution_count": 24,
   "metadata": {},
   "outputs": [],
   "source": [
    "grid_search_cv_ref = ModelFactory.class_for_name(module_name=grid_search_cv_module,\n",
    "                                                             class_name=grid_search_class_name\n",
    "                                                             )"
   ]
  },
  {
   "cell_type": "code",
   "execution_count": 25,
   "metadata": {},
   "outputs": [
    {
     "data": {
      "text/plain": [
       "sklearn.model_selection._search.GridSearchCV"
      ]
     },
     "execution_count": 25,
     "metadata": {},
     "output_type": "execute_result"
    }
   ],
   "source": [
    "grid_search_cv_ref"
   ]
  },
  {
   "cell_type": "code",
   "execution_count": null,
   "metadata": {},
   "outputs": [],
   "source": [
    "grid_search_cv = grid_search_cv_ref(estimator=initialized_model.model,\n",
    "                                    param_grid=initialized_model.param_grid_search)"
   ]
  }
 ],
 "metadata": {
  "kernelspec": {
   "display_name": "Python 3.8.8 ('base')",
   "language": "python",
   "name": "python3"
  },
  "language_info": {
   "codemirror_mode": {
    "name": "ipython",
    "version": 3
   },
   "file_extension": ".py",
   "mimetype": "text/x-python",
   "name": "python",
   "nbconvert_exporter": "python",
   "pygments_lexer": "ipython3",
   "version": "3.8.8"
  },
  "orig_nbformat": 4,
  "vscode": {
   "interpreter": {
    "hash": "cd99ff5c8301b556d7792f0edcb24e9d5302d907aa2f960d4943eb484e9ebd3f"
   }
  }
 },
 "nbformat": 4,
 "nbformat_minor": 2
}
