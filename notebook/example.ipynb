{
 "cells": [
  {
   "cell_type": "code",
   "execution_count": 1,
   "metadata": {},
   "outputs": [],
   "source": [
    "from collections import namedtuple"
   ]
  },
  {
   "cell_type": "markdown",
   "metadata": {},
   "source": [
    "1 download url\n",
    "2 download folder\n",
    "Extract folder\n",
    "Train dataset folder\n",
    "Test dataset folder\n"
   ]
  },
  {
   "cell_type": "code",
   "execution_count": 2,
   "metadata": {},
   "outputs": [],
   "source": [
    "DataIngestionconfig= namedtuple(\"DataIngestionconfig\",[\"dataset_download_url\",\"tgz_download_dir\",\"raw_data_dir\",\"ingested_train_dir\",\"ingested_test_dir\"])"
   ]
  },
  {
   "cell_type": "code",
   "execution_count": 3,
   "metadata": {},
   "outputs": [],
   "source": [
    "data_ingestion_config=DataIngestionconfig(dataset_download_url=\"vdcvwgcv\",\n",
    "                    tgz_download_dir=\"vchjwvcjh\",\n",
    "                    raw_data_dir=\"dcbkdshj\",\n",
    "                    ingested_train_dir=\"dcsjhdcv\",\n",
    "                    ingested_test_dir=\"bcjhdwvc\")"
   ]
  },
  {
   "cell_type": "code",
   "execution_count": 4,
   "metadata": {},
   "outputs": [
    {
     "data": {
      "text/plain": [
       "DataIngestionconfig(dataset_download_url='vdcvwgcv', tgz_download_dir='vchjwvcjh', raw_data_dir='dcbkdshj', ingested_train_dir='dcsjhdcv', ingested_test_dir='bcjhdwvc')"
      ]
     },
     "execution_count": 4,
     "metadata": {},
     "output_type": "execute_result"
    }
   ],
   "source": [
    "data_ingestion_config"
   ]
  },
  {
   "cell_type": "code",
   "execution_count": 26,
   "metadata": {},
   "outputs": [
    {
     "data": {
      "text/plain": [
       "'c:\\\\Users\\\\prana\\\\machine_learning_project_1\\\\ml_projects'"
      ]
     },
     "execution_count": 26,
     "metadata": {},
     "output_type": "execute_result"
    }
   ],
   "source": [
    "import yaml\n",
    "import os\n",
    "os.getcwd()"
   ]
  },
  {
   "cell_type": "code",
   "execution_count": 6,
   "metadata": {},
   "outputs": [],
   "source": [
    "#os.chdir(\"c:\\\\Users\\\\prana\\\\machine_learning_project_1\\\\ml_projects\")"
   ]
  },
  {
   "cell_type": "code",
   "execution_count": 7,
   "metadata": {},
   "outputs": [
    {
     "data": {
      "text/plain": [
       "'c:\\\\Users\\\\prana\\\\machine_learning_project_1\\\\ml_projects'"
      ]
     },
     "execution_count": 7,
     "metadata": {},
     "output_type": "execute_result"
    }
   ],
   "source": [
    "os.getcwd()"
   ]
  },
  {
   "cell_type": "code",
   "execution_count": 8,
   "metadata": {},
   "outputs": [
    {
     "data": {
      "text/plain": [
       "['.dist',\n",
       " '.dockerignore',\n",
       " '.git',\n",
       " '.github',\n",
       " '.gitignore',\n",
       " 'app.py',\n",
       " 'build',\n",
       " 'config',\n",
       " 'dist',\n",
       " 'Dockerfile',\n",
       " 'flow.txt',\n",
       " 'housing',\n",
       " 'Housing_log',\n",
       " 'Housing_predictor.egg-info',\n",
       " 'LICENSE',\n",
       " 'notebook',\n",
       " 'README.md',\n",
       " 'requirements.txt',\n",
       " 'setup.py',\n",
       " 'study',\n",
       " 'venv2']"
      ]
     },
     "execution_count": 8,
     "metadata": {},
     "output_type": "execute_result"
    }
   ],
   "source": [
    "os.listdir()"
   ]
  },
  {
   "cell_type": "code",
   "execution_count": 9,
   "metadata": {},
   "outputs": [],
   "source": [
    "config_file_path=os.path.join(\"config\",\"config.yaml\")"
   ]
  },
  {
   "cell_type": "code",
   "execution_count": 27,
   "metadata": {},
   "outputs": [
    {
     "data": {
      "text/plain": [
       "'config\\\\config.yaml'"
      ]
     },
     "execution_count": 27,
     "metadata": {},
     "output_type": "execute_result"
    }
   ],
   "source": [
    "config_file_path"
   ]
  },
  {
   "cell_type": "code",
   "execution_count": 11,
   "metadata": {},
   "outputs": [
    {
     "data": {
      "text/plain": [
       "True"
      ]
     },
     "execution_count": 11,
     "metadata": {},
     "output_type": "execute_result"
    }
   ],
   "source": [
    "os.path.exists(config_file_path)"
   ]
  },
  {
   "cell_type": "code",
   "execution_count": 12,
   "metadata": {},
   "outputs": [],
   "source": [
    "with open(config_file_path,\"rb\") as yml_file:\n",
    "    config_info=yaml.safe_load(yml_file)"
   ]
  },
  {
   "cell_type": "code",
   "execution_count": 13,
   "metadata": {},
   "outputs": [
    {
     "data": {
      "text/plain": [
       "{'training_pipeline_config': {'pipeline_name': 'housing',\n",
       "  'artifact_dir': 'artifact'},\n",
       " 'data_ingestion_config': {'dataset_download_url': 'https://raw.githubusercontent.com/ageron/handson-ml/master/datasets/housing/housing.tgz',\n",
       "  'raw_data_dir': 'raw_data',\n",
       "  'tgz_download_dir': 'tgz_data',\n",
       "  'ingested_dir': 'ingested_data',\n",
       "  'ingested_train_dir': 'train',\n",
       "  'ingested_test_dir': 'test'},\n",
       " 'data_validation_config': {'schema_file_name': 'schema.yaml'},\n",
       " 'data_transformation_config': {'add_bedroom_per_room': True,\n",
       "  'transformed_dir': 'transformed_data',\n",
       "  'transformed_train_dir': 'train',\n",
       "  'transformed_test_dir': 'test',\n",
       "  'preprocessing_dir': 'preprocessed',\n",
       "  'preprocessed_object_file_name': 'preprocessed.pkl'},\n",
       " 'model_trainer_config': {'trained_model_dir': 'trained_model',\n",
       "  'model_file_name': 'model.pkl',\n",
       "  'base_accuracy': 0.6},\n",
       " 'model_evaluation_config': {'model_evaluation_file_name': 'model_evaluation.yaml'},\n",
       " 'model_pusher_config': {'model_export_dir': 'saved_model'}}"
      ]
     },
     "execution_count": 13,
     "metadata": {},
     "output_type": "execute_result"
    }
   ],
   "source": [
    "config_info "
   ]
  },
  {
   "cell_type": "code",
   "execution_count": 14,
   "metadata": {},
   "outputs": [],
   "source": [
    "def read_yaml_file(file_path:str)-> dict:\n",
    "    \"\"\" This function will read the yaml file and will return content as dictionary\"\"\"\n",
    "    try:\n",
    "        with open(file_path,\"rb\") as yml_file:\n",
    "            config_info=yaml.safe_load(yml_file)\n",
    "            return config_info\n",
    "    except Exception as e:\n",
    "        raise e"
   ]
  },
  {
   "cell_type": "code",
   "execution_count": 15,
   "metadata": {},
   "outputs": [],
   "source": [
    "x=read_yaml_file(config_file_path)"
   ]
  },
  {
   "cell_type": "code",
   "execution_count": 16,
   "metadata": {},
   "outputs": [
    {
     "data": {
      "text/plain": [
       "{'training_pipeline_config': {'pipeline_name': 'housing',\n",
       "  'artifact_dir': 'artifact'},\n",
       " 'data_ingestion_config': {'dataset_download_url': 'https://raw.githubusercontent.com/ageron/handson-ml/master/datasets/housing/housing.tgz',\n",
       "  'raw_data_dir': 'raw_data',\n",
       "  'tgz_download_dir': 'tgz_data',\n",
       "  'ingested_dir': 'ingested_data',\n",
       "  'ingested_train_dir': 'train',\n",
       "  'ingested_test_dir': 'test'},\n",
       " 'data_validation_config': {'schema_file_name': 'schema.yaml'},\n",
       " 'data_transformation_config': {'add_bedroom_per_room': True,\n",
       "  'transformed_dir': 'transformed_data',\n",
       "  'transformed_train_dir': 'train',\n",
       "  'transformed_test_dir': 'test',\n",
       "  'preprocessing_dir': 'preprocessed',\n",
       "  'preprocessed_object_file_name': 'preprocessed.pkl'},\n",
       " 'model_trainer_config': {'trained_model_dir': 'trained_model',\n",
       "  'model_file_name': 'model.pkl',\n",
       "  'base_accuracy': 0.6},\n",
       " 'model_evaluation_config': {'model_evaluation_file_name': 'model_evaluation.yaml'},\n",
       " 'model_pusher_config': {'model_export_dir': 'saved_model'}}"
      ]
     },
     "execution_count": 16,
     "metadata": {},
     "output_type": "execute_result"
    }
   ],
   "source": [
    "x"
   ]
  },
  {
   "cell_type": "code",
   "execution_count": 17,
   "metadata": {},
   "outputs": [],
   "source": [
    "# biulsing the get_data_ingestion_config() from config->configuration file\n",
    "from housing.constants import *\n",
    "from  housing.config.configuration import configuration\n"
   ]
  },
  {
   "cell_type": "code",
   "execution_count": 18,
   "metadata": {},
   "outputs": [],
   "source": [
    "config=read_yaml_file(config_file_path)"
   ]
  },
  {
   "cell_type": "code",
   "execution_count": 19,
   "metadata": {},
   "outputs": [
    {
     "data": {
      "text/plain": [
       "{'pipeline_name': 'housing', 'artifact_dir': 'artifact'}"
      ]
     },
     "execution_count": 19,
     "metadata": {},
     "output_type": "execute_result"
    }
   ],
   "source": [
    "config[\"training_pipeline_config\"]"
   ]
  },
  {
   "cell_type": "code",
   "execution_count": 20,
   "metadata": {},
   "outputs": [
    {
     "data": {
      "text/plain": [
       "{'pipeline_name': 'housing', 'artifact_dir': 'artifact'}"
      ]
     },
     "execution_count": 20,
     "metadata": {},
     "output_type": "execute_result"
    }
   ],
   "source": [
    "config[TRAINING_PIPELINE_CONFIG_KEY]"
   ]
  },
  {
   "cell_type": "code",
   "execution_count": 21,
   "metadata": {},
   "outputs": [],
   "source": [
    "config=configuration()"
   ]
  },
  {
   "cell_type": "code",
   "execution_count": 22,
   "metadata": {},
   "outputs": [],
   "source": [
    "config_info=config.get_data_ingestion_config()"
   ]
  },
  {
   "cell_type": "code",
   "execution_count": 23,
   "metadata": {},
   "outputs": [
    {
     "data": {
      "text/plain": [
       "DataIngestionconfig(dataset_download_url='https://raw.githubusercontent.com/ageron/handson-ml/master/datasets/housing/housing.tgz', tgz_download_dir='c:\\\\Users\\\\prana\\\\machine_learning_project_1\\\\ml_projects\\\\housing\\\\artifact\\\\data_ingestion\\\\2022-06-29_12-12-56\\\\tgz_data', raw_data_dir='c:\\\\Users\\\\prana\\\\machine_learning_project_1\\\\ml_projects\\\\housing\\\\artifact\\\\data_ingestion\\\\2022-06-29_12-12-56\\\\raw_data', ingested_train_dir='c:\\\\Users\\\\prana\\\\machine_learning_project_1\\\\ml_projects\\\\housing\\\\artifact\\\\data_ingestion\\\\2022-06-29_12-12-56\\\\ingested_data\\\\train', ingested_test_dir='c:\\\\Users\\\\prana\\\\machine_learning_project_1\\\\ml_projects\\\\housing\\\\artifact\\\\data_ingestion\\\\2022-06-29_12-12-56\\\\ingested_data\\\\test')"
      ]
     },
     "execution_count": 23,
     "metadata": {},
     "output_type": "execute_result"
    }
   ],
   "source": [
    "config_info"
   ]
  },
  {
   "cell_type": "code",
   "execution_count": 24,
   "metadata": {},
   "outputs": [
    {
     "ename": "NameError",
     "evalue": "name 'error_message' is not defined",
     "output_type": "error",
     "traceback": [
      "\u001b[1;31m---------------------------------------------------------------------------\u001b[0m",
      "\u001b[1;31mKeyError\u001b[0m                                  Traceback (most recent call last)",
      "File \u001b[1;32mc:\\Users\\prana\\machine_learning_project_1\\ml_projects\\housing\\config\\configuration.py:73\u001b[0m, in \u001b[0;36mconfiguration.get_data_validation_config\u001b[1;34m(self)\u001b[0m\n\u001b[0;32m     71\u001b[0m data_validation_artifact_dir\u001b[39m=\u001b[39mos\u001b[39m.\u001b[39mpath\u001b[39m.\u001b[39mjoin(artifact_dir,DATA_VALIDATION_ARTIFACT_DIR,\u001b[39mself\u001b[39m\u001b[39m.\u001b[39mtime_stamp)\n\u001b[1;32m---> 73\u001b[0m schema_file_path\u001b[39m=\u001b[39mos\u001b[39m.\u001b[39mpath\u001b[39m.\u001b[39mjoin(data_validation_artifact_dir,data_validation_info[DATA_VALIDATION_CONFIG_KEY])\n\u001b[0;32m     77\u001b[0m data_validation_config\u001b[39m=\u001b[39mDataValidationconfig(schema_file_path\u001b[39m=\u001b[39mschema_file_path)\n",
      "\u001b[1;31mKeyError\u001b[0m: 'data_validation_config'",
      "\nThe above exception was the direct cause of the following exception:\n",
      "\u001b[1;31mHousing_exception\u001b[0m                         Traceback (most recent call last)",
      "    \u001b[1;31m[... skipping hidden 1 frame]\u001b[0m\n",
      "\u001b[1;32mc:\\Users\\prana\\machine_learning_project_1\\ml_projects\\notebook\\example.ipynb Cell 25'\u001b[0m in \u001b[0;36m<cell line: 1>\u001b[1;34m()\u001b[0m\n\u001b[1;32m----> <a href='vscode-notebook-cell:/c%3A/Users/prana/machine_learning_project_1/ml_projects/notebook/example.ipynb#ch0000024?line=0'>1</a>\u001b[0m config\u001b[39m.\u001b[39;49mget_data_validation_config()\n",
      "File \u001b[1;32mc:\\Users\\prana\\machine_learning_project_1\\ml_projects\\housing\\config\\configuration.py:80\u001b[0m, in \u001b[0;36mconfiguration.get_data_validation_config\u001b[1;34m(self)\u001b[0m\n\u001b[0;32m     79\u001b[0m \u001b[39mexcept\u001b[39;00m \u001b[39mException\u001b[39;00m \u001b[39mas\u001b[39;00m e:\n\u001b[1;32m---> 80\u001b[0m     \u001b[39mraise\u001b[39;00m Housing_exception(e,sys) \u001b[39mfrom\u001b[39;00m \u001b[39me\u001b[39;00m\n",
      "\u001b[1;31m<class 'str'>\u001b[0m: (<class 'NameError'>, NameError(\"name 'error_message' is not defined\"))",
      "\nDuring handling of the above exception, another exception occurred:\n",
      "\u001b[1;31mNameError\u001b[0m                                 Traceback (most recent call last)",
      "    \u001b[1;31m[... skipping hidden 1 frame]\u001b[0m\n",
      "File \u001b[1;32mc:\\Users\\prana\\anaconda3\\lib\\site-packages\\IPython\\core\\interactiveshell.py:2004\u001b[0m, in \u001b[0;36mInteractiveShell.showtraceback\u001b[1;34m(self, exc_tuple, filename, tb_offset, exception_only, running_compiled_code)\u001b[0m\n\u001b[0;32m   2001\u001b[0m     traceback\u001b[39m.\u001b[39mprint_exc()\n\u001b[0;32m   2002\u001b[0m     \u001b[39mreturn\u001b[39;00m \u001b[39mNone\u001b[39;00m\n\u001b[1;32m-> 2004\u001b[0m \u001b[39mself\u001b[39;49m\u001b[39m.\u001b[39;49m_showtraceback(etype, value, stb)\n\u001b[0;32m   2005\u001b[0m \u001b[39mif\u001b[39;00m \u001b[39mself\u001b[39m\u001b[39m.\u001b[39mcall_pdb:\n\u001b[0;32m   2006\u001b[0m     \u001b[39m# drop into debugger\u001b[39;00m\n\u001b[0;32m   2007\u001b[0m     \u001b[39mself\u001b[39m\u001b[39m.\u001b[39mdebugger(force\u001b[39m=\u001b[39m\u001b[39mTrue\u001b[39;00m)\n",
      "File \u001b[1;32mc:\\Users\\prana\\anaconda3\\lib\\site-packages\\ipykernel\\zmqshell.py:546\u001b[0m, in \u001b[0;36mZMQInteractiveShell._showtraceback\u001b[1;34m(self, etype, evalue, stb)\u001b[0m\n\u001b[0;32m    540\u001b[0m sys\u001b[39m.\u001b[39mstdout\u001b[39m.\u001b[39mflush()\n\u001b[0;32m    541\u001b[0m sys\u001b[39m.\u001b[39mstderr\u001b[39m.\u001b[39mflush()\n\u001b[0;32m    543\u001b[0m exc_content \u001b[39m=\u001b[39m {\n\u001b[0;32m    544\u001b[0m     \u001b[39mu\u001b[39m\u001b[39m'\u001b[39m\u001b[39mtraceback\u001b[39m\u001b[39m'\u001b[39m : stb,\n\u001b[0;32m    545\u001b[0m     \u001b[39mu\u001b[39m\u001b[39m'\u001b[39m\u001b[39mename\u001b[39m\u001b[39m'\u001b[39m : unicode_type(etype\u001b[39m.\u001b[39m\u001b[39m__name__\u001b[39m),\n\u001b[1;32m--> 546\u001b[0m     \u001b[39mu\u001b[39m\u001b[39m'\u001b[39m\u001b[39mevalue\u001b[39m\u001b[39m'\u001b[39m : py3compat\u001b[39m.\u001b[39;49msafe_unicode(evalue),\n\u001b[0;32m    547\u001b[0m }\n\u001b[0;32m    549\u001b[0m dh \u001b[39m=\u001b[39m \u001b[39mself\u001b[39m\u001b[39m.\u001b[39mdisplayhook\n\u001b[0;32m    550\u001b[0m \u001b[39m# Send exception info over pub socket for other clients than the caller\u001b[39;00m\n\u001b[0;32m    551\u001b[0m \u001b[39m# to pick up\u001b[39;00m\n",
      "File \u001b[1;32mc:\\Users\\prana\\anaconda3\\lib\\site-packages\\ipython_genutils\\py3compat.py:65\u001b[0m, in \u001b[0;36msafe_unicode\u001b[1;34m(e)\u001b[0m\n\u001b[0;32m     61\u001b[0m \u001b[39m\"\"\"unicode(e) with various fallbacks. Used for exceptions, which may not be\u001b[39;00m\n\u001b[0;32m     62\u001b[0m \u001b[39msafe to call unicode() on.\u001b[39;00m\n\u001b[0;32m     63\u001b[0m \u001b[39m\"\"\"\u001b[39;00m\n\u001b[0;32m     64\u001b[0m \u001b[39mtry\u001b[39;00m:\n\u001b[1;32m---> 65\u001b[0m     \u001b[39mreturn\u001b[39;00m unicode_type(e)\n\u001b[0;32m     66\u001b[0m \u001b[39mexcept\u001b[39;00m \u001b[39mUnicodeError\u001b[39;00m:\n\u001b[0;32m     67\u001b[0m     \u001b[39mpass\u001b[39;00m\n",
      "File \u001b[1;32mc:\\Users\\prana\\machine_learning_project_1\\ml_projects\\housing\\exception\\__init__.py:37\u001b[0m, in \u001b[0;36mHousing_exception.__str__\u001b[1;34m(self)\u001b[0m\n\u001b[0;32m     36\u001b[0m \u001b[39mdef\u001b[39;00m \u001b[39m__str__\u001b[39m(\u001b[39mself\u001b[39m) \u001b[39m-\u001b[39m\u001b[39m>\u001b[39m \u001b[39mstr\u001b[39m:\n\u001b[1;32m---> 37\u001b[0m     \u001b[39mreturn\u001b[39;00m error_message\n",
      "\u001b[1;31mNameError\u001b[0m: name 'error_message' is not defined"
     ]
    }
   ],
   "source": [
    "config.get_data_validation_config()"
   ]
  },
  {
   "cell_type": "code",
   "execution_count": null,
   "metadata": {},
   "outputs": [
    {
     "ename": "NameError",
     "evalue": "name 'data_injestion_info' is not defined",
     "output_type": "error",
     "traceback": [
      "\u001b[1;31m---------------------------------------------------------------------------\u001b[0m",
      "\u001b[1;31mNameError\u001b[0m                                 Traceback (most recent call last)",
      "\u001b[1;32mc:\\Users\\prana\\machine_learning_project_1\\ml_projects\\notebook\\example.ipynb Cell 26'\u001b[0m in \u001b[0;36m<cell line: 1>\u001b[1;34m()\u001b[0m\n\u001b[1;32m----> <a href='vscode-notebook-cell:/c%3A/Users/prana/machine_learning_project_1/ml_projects/notebook/example.ipynb#ch0000025?line=0'>1</a>\u001b[0m data_injestion_info\n",
      "\u001b[1;31mNameError\u001b[0m: name 'data_injestion_info' is not defined"
     ]
    }
   ],
   "source": [
    "data_injestion_info"
   ]
  },
  {
   "cell_type": "code",
   "execution_count": null,
   "metadata": {},
   "outputs": [
    {
     "data": {
      "text/plain": [
       "'dataset_download_url'"
      ]
     },
     "execution_count": 33,
     "metadata": {},
     "output_type": "execute_result"
    }
   ],
   "source": [
    "DATA_INGESTION_DOWNLOAD_URL_KEY"
   ]
  },
  {
   "cell_type": "code",
   "execution_count": null,
   "metadata": {},
   "outputs": [
    {
     "ename": "AttributeError",
     "evalue": "'dict' object has no attribute 'get_training_pipeline_config'",
     "output_type": "error",
     "traceback": [
      "\u001b[1;31m---------------------------------------------------------------------------\u001b[0m",
      "\u001b[1;31mAttributeError\u001b[0m                            Traceback (most recent call last)",
      "\u001b[1;32mc:\\Users\\prana\\machine_learning_project_1\\ml_projects\\notebook\\example.ipynb Cell 28'\u001b[0m in \u001b[0;36m<cell line: 6>\u001b[1;34m()\u001b[0m\n\u001b[0;32m      <a href='vscode-notebook-cell:/c%3A/Users/prana/machine_learning_project_1/ml_projects/notebook/example.ipynb#ch0000029?line=0'>1</a>\u001b[0m \u001b[39m# see koi bhi artifact directory jo hai wo training pipeline k main outer directory k andar hoga wo humne jab \u001b[39;00m\n\u001b[0;32m      <a href='vscode-notebook-cell:/c%3A/Users/prana/machine_learning_project_1/ml_projects/notebook/example.ipynb#ch0000029?line=1'>2</a>\u001b[0m \u001b[39m# training_pipeline_config () mathod bnaya hai isme define kia gya hai \u001b[39;00m\n\u001b[0;32m      <a href='vscode-notebook-cell:/c%3A/Users/prana/machine_learning_project_1/ml_projects/notebook/example.ipynb#ch0000029?line=2'>3</a>\u001b[0m \u001b[39m# ab ye tgz jo hai wo bhi usi k andar hoga to hum training_pipeline_config k andart de dir\u001b[39;00m\n\u001b[0;32m      <a href='vscode-notebook-cell:/c%3A/Users/prana/machine_learning_project_1/ml_projects/notebook/example.ipynb#ch0000029?line=3'>4</a>\u001b[0m \u001b[39m# ko call kr k usi k andar hum apne sare artifact dir ko mention klrenge\u001b[39;00m\n\u001b[1;32m----> <a href='vscode-notebook-cell:/c%3A/Users/prana/machine_learning_project_1/ml_projects/notebook/example.ipynb#ch0000029?line=5'>6</a>\u001b[0m artifact_dir\u001b[39m=\u001b[39mconfig\u001b[39m.\u001b[39;49mget_training_pipeline_config()\u001b[39m.\u001b[39martifact_dir\n",
      "\u001b[1;31mAttributeError\u001b[0m: 'dict' object has no attribute 'get_training_pipeline_config'"
     ]
    }
   ],
   "source": [
    "# see koi bhi artifact directory jo hai wo training pipeline k main outer directory k andar hoga wo humne jab \n",
    "# training_pipeline_config () mathod bnaya hai isme define kia gya hai \n",
    "# ab ye tgz jo hai wo bhi usi k andar hoga to hum training_pipeline_config k andart de dir\n",
    "# ko call kr k usi k andar hum apne sare artifact dir ko mention klrenge\n",
    "\n",
    "artifact_dir=config.get_training_pipeline_config().artifact_dir\n"
   ]
  },
  {
   "cell_type": "code",
   "execution_count": null,
   "metadata": {},
   "outputs": [
    {
     "ename": "NameError",
     "evalue": "name 'artifact_dir' is not defined",
     "output_type": "error",
     "traceback": [
      "\u001b[1;31m---------------------------------------------------------------------------\u001b[0m",
      "\u001b[1;31mNameError\u001b[0m                                 Traceback (most recent call last)",
      "\u001b[1;32mc:\\Users\\prana\\machine_learning_project_1\\ml_projects\\notebook\\example.ipynb Cell 29'\u001b[0m in \u001b[0;36m<cell line: 1>\u001b[1;34m()\u001b[0m\n\u001b[1;32m----> <a href='vscode-notebook-cell:/c%3A/Users/prana/machine_learning_project_1/ml_projects/notebook/example.ipynb#ch0000030?line=0'>1</a>\u001b[0m artifact_dir\n",
      "\u001b[1;31mNameError\u001b[0m: name 'artifact_dir' is not defined"
     ]
    }
   ],
   "source": [
    "artifact_dir"
   ]
  },
  {
   "cell_type": "code",
   "execution_count": null,
   "metadata": {},
   "outputs": [
    {
     "ename": "NameError",
     "evalue": "name 'artifact_dir' is not defined",
     "output_type": "error",
     "traceback": [
      "\u001b[1;31m---------------------------------------------------------------------------\u001b[0m",
      "\u001b[1;31mNameError\u001b[0m                                 Traceback (most recent call last)",
      "\u001b[1;32mc:\\Users\\prana\\machine_learning_project_1\\ml_projects\\notebook\\example.ipynb Cell 30'\u001b[0m in \u001b[0;36m<cell line: 1>\u001b[1;34m()\u001b[0m\n\u001b[1;32m----> <a href='vscode-notebook-cell:/c%3A/Users/prana/machine_learning_project_1/ml_projects/notebook/example.ipynb#ch0000031?line=0'>1</a>\u001b[0m os\u001b[39m.\u001b[39mpath\u001b[39m.\u001b[39mjoin(artifact_dir,\u001b[39m\"\u001b[39m\u001b[39mdata_ingestion\u001b[39m\u001b[39m\"\u001b[39m,CURRENT_TIME_STAMP)\n",
      "\u001b[1;31mNameError\u001b[0m: name 'artifact_dir' is not defined"
     ]
    }
   ],
   "source": [
    "os.path.join(artifact_dir,\"data_ingestion\",CURRENT_TIME_STAMP)\n",
    "# this is the path for the data ingestion artifact dir"
   ]
  },
  {
   "cell_type": "code",
   "execution_count": null,
   "metadata": {},
   "outputs": [],
   "source": []
  }
 ],
 "metadata": {
  "kernelspec": {
   "display_name": "Python 3.8.8 ('base')",
   "language": "python",
   "name": "python3"
  },
  "language_info": {
   "codemirror_mode": {
    "name": "ipython",
    "version": 3
   },
   "file_extension": ".py",
   "mimetype": "text/x-python",
   "name": "python",
   "nbconvert_exporter": "python",
   "pygments_lexer": "ipython3",
   "version": "3.8.8"
  },
  "orig_nbformat": 4,
  "vscode": {
   "interpreter": {
    "hash": "cd99ff5c8301b556d7792f0edcb24e9d5302d907aa2f960d4943eb484e9ebd3f"
   }
  }
 },
 "nbformat": 4,
 "nbformat_minor": 2
}
